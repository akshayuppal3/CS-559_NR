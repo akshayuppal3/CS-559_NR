{
 "cells": [
  {
   "cell_type": "code",
   "execution_count": 11,
   "metadata": {},
   "outputs": [],
   "source": [
    "def get_random_points(a, b, n):\n",
    "    x = list()\n",
    "    for i in range(n):\n",
    "        temp = random.uniform(a, b)\n",
    "        x.append(temp)\n",
    "    return x"
   ]
  },
  {
   "cell_type": "code",
   "execution_count": 17,
   "metadata": {},
   "outputs": [],
   "source": [
    "def get_desired_points(X):\n",
    "    d = list()\n",
    "    for x1,x2 in X:\n",
    "        if (x2 < 1/5 * math.sin(10*x1) + 0.3) or ((x2 - 0.8)**2 + (x1 - 0.5)**2 < (0.15)**2):\n",
    "            d.append(1)\n",
    "        else:\n",
    "            d.append(-1)\n",
    "    return d"
   ]
  },
  {
   "cell_type": "code",
   "execution_count": 13,
   "metadata": {},
   "outputs": [],
   "source": [
    "def linear_kernel(xi,xj):\n",
    "    return np.dot(xi.T,xj)"
   ]
  },
  {
   "cell_type": "code",
   "execution_count": 14,
   "metadata": {},
   "outputs": [],
   "source": [
    "def polynomial_kernel(Xi,Xj,d):\n",
    "    return (1 + np.dot(Xi.T,Xj))**d"
   ]
  },
  {
   "cell_type": "code",
   "execution_count": 224,
   "metadata": {},
   "outputs": [],
   "source": [
    "import numpy as np\n",
    "import random\n",
    "import math\n",
    "import matplotlib.pyplot as plt\n",
    "from numpy.linalg import norm"
   ]
  },
  {
   "cell_type": "code",
   "execution_count": 225,
   "metadata": {},
   "outputs": [],
   "source": [
    "def gaussian_kernel(Xi,Xj,sigma):\n",
    "    return math.exp(-(norm(Xi - Xj)**2/sigma**2))"
   ]
  },
  {
   "cell_type": "code",
   "execution_count": 223,
   "metadata": {},
   "outputs": [],
   "source": [
    "import numpy as np\n",
    "import random\n",
    "import math\n",
    "import matplotlib.pyplot as plt\n",
    "from numpy.linalg import norm"
   ]
  },
  {
   "cell_type": "code",
   "execution_count": 165,
   "metadata": {},
   "outputs": [],
   "source": [
    "from cvxopt import solvers, matrix"
   ]
  },
  {
   "cell_type": "code",
   "execution_count": 387,
   "metadata": {},
   "outputs": [
    {
     "name": "stdout",
     "output_type": "stream",
     "text": [
      "The autoreload extension is already loaded. To reload it, use:\n",
      "  %reload_ext autoreload\n"
     ]
    }
   ],
   "source": [
    "%load_ext autoreload\n",
    "%autoreload 2"
   ]
  },
  {
   "cell_type": "code",
   "execution_count": 414,
   "metadata": {},
   "outputs": [],
   "source": [
    "X1 = get_random_points(0, 1, 100)\n",
    "X2 = get_random_points(0, 1, 100)\n",
    "X = [[ele1,ele2] for ele1,ele2 in zip(X1,X2)]\n",
    "D = get_desired_points(X)"
   ]
  },
  {
   "cell_type": "code",
   "execution_count": 415,
   "metadata": {},
   "outputs": [],
   "source": [
    "P = []\n",
    "for i in range(100):\n",
    "    row = []\n",
    "    for j in range(100):\n",
    "        temp = D[i] * D[j] * polynomial_kernel(np.array(X[i]),np.array(X[j]),d=2)\n",
    "        row.append(temp)\n",
    "    P.append(row)"
   ]
  },
  {
   "cell_type": "code",
   "execution_count": 416,
   "metadata": {},
   "outputs": [],
   "source": [
    "P = matrix(P)"
   ]
  },
  {
   "cell_type": "code",
   "execution_count": 417,
   "metadata": {},
   "outputs": [],
   "source": [
    "q = matrix(-1 * np.ones(100))"
   ]
  },
  {
   "cell_type": "code",
   "execution_count": 418,
   "metadata": {},
   "outputs": [],
   "source": [
    "h = matrix(np.zeros(100))"
   ]
  },
  {
   "cell_type": "code",
   "execution_count": 419,
   "metadata": {},
   "outputs": [],
   "source": [
    "G = matrix(-1 * np.eye(100)) ##"
   ]
  },
  {
   "cell_type": "code",
   "execution_count": 420,
   "metadata": {},
   "outputs": [],
   "source": [
    "b = matrix([0], (1,1), 'd')"
   ]
  },
  {
   "cell_type": "code",
   "execution_count": 421,
   "metadata": {},
   "outputs": [],
   "source": [
    "A = matrix(D, (1,100) , 'd')"
   ]
  },
  {
   "cell_type": "code",
   "execution_count": 428,
   "metadata": {
    "scrolled": true
   },
   "outputs": [
    {
     "name": "stdout",
     "output_type": "stream",
     "text": [
      "     pcost       dcost       gap    pres   dres\n",
      " 0: -6.6253e+01 -1.8957e+02  3e+02  1e+01  3e+00\n",
      " 1: -2.3948e+02 -3.9312e+02  2e+02  6e+00  2e+00\n",
      " 2: -8.6215e+02 -1.0625e+03  2e+02  5e+00  1e+00\n",
      " 3: -4.5084e+03 -4.7428e+03  2e+02  4e+00  1e+00\n",
      " 4: -5.7893e+04 -5.9152e+04  1e+03  4e+00  1e+00\n",
      " 5: -1.9390e+06 -1.9520e+06  1e+04  4e+00  1e+00\n",
      " 6: -2.7609e+08 -2.7619e+08  1e+05  4e+00  1e+00\n",
      " 7: -3.0140e+11 -3.0146e+11  7e+07  4e+00  1e+00\n",
      " 8: -3.0152e+11 -3.0159e+11  7e+07  4e+00  1e+00\n",
      " 9: -3.0152e+11 -3.0159e+11  7e+07  4e+00  1e+00\n",
      "10: -3.0153e+11 -3.0159e+11  7e+07  4e+00  1e+00\n",
      "11: -3.0123e+11 -3.0129e+11  7e+07  4e+00  1e+00\n",
      "12: -3.1083e+11 -3.1090e+11  7e+07  4e+00  1e+00\n",
      "13: -3.9050e+11 -3.9058e+11  9e+07  4e+00  1e+00\n",
      "14: -4.4352e+11 -4.4361e+11  1e+08  4e+00  1e+00\n",
      "15: -5.9546e+11 -5.9558e+11  1e+08  4e+00  1e+00\n",
      "16: -8.0863e+11 -8.0876e+11  1e+08  4e+00  1e+00\n",
      "Terminated (singular KKT matrix).\n"
     ]
    }
   ],
   "source": [
    "sol=solvers.qp( P, q, G, h, A, b)"
   ]
  },
  {
   "cell_type": "code",
   "execution_count": 429,
   "metadata": {
    "scrolled": true
   },
   "outputs": [
    {
     "name": "stdout",
     "output_type": "stream",
     "text": [
      "[ 1.29e+09]\n",
      "[ 4.88e+09]\n",
      "[ 3.54e+09]\n",
      "[ 2.73e+08]\n",
      "[ 1.02e+10]\n",
      "[ 3.90e+09]\n",
      "[ 1.74e+09]\n",
      "[ 3.18e+09]\n",
      "[ 1.04e+09]\n",
      "[ 4.84e+09]\n",
      "[ 3.41e+09]\n",
      "[ 1.95e+09]\n",
      "[ 1.50e+03]\n",
      "[ 4.51e+08]\n",
      "[ 1.69e+09]\n",
      "[ 8.12e+09]\n",
      "[ 8.86e+09]\n",
      "[ 9.30e+08]\n",
      "[ 4.59e+08]\n",
      "[ 7.57e+09]\n",
      "[ 2.30e+09]\n",
      "[ 3.44e+09]\n",
      "[ 2.79e+08]\n",
      "[ 2.56e+09]\n",
      "[ 1.12e+09]\n",
      "[ 1.72e+10]\n",
      "[ 1.76e+10]\n",
      "[ 1.03e+09]\n",
      "[ 7.12e+09]\n",
      "[ 1.46e+10]\n",
      "[ 2.61e+09]\n",
      "[ 6.93e+08]\n",
      "[ 9.50e+09]\n",
      "[ 9.76e+09]\n",
      "[ 1.09e+09]\n",
      "[ 5.78e+09]\n",
      "[ 1.35e+09]\n",
      "[ 2.14e+09]\n",
      "[ 6.38e+08]\n",
      "[ 8.79e+10]\n",
      "[ 2.00e+09]\n",
      "[ 4.21e+09]\n",
      "[ 1.00e+10]\n",
      "[ 1.41e+10]\n",
      "[ 1.35e+09]\n",
      "[ 1.53e+10]\n",
      "[ 1.16e+11]\n",
      "[ 9.50e+09]\n",
      "[ 1.20e+09]\n",
      "[ 7.78e+08]\n",
      "[ 2.11e+09]\n",
      "[ 5.73e+08]\n",
      "[ 2.86e+10]\n",
      "[ 4.97e+08]\n",
      "[ 1.17e+08]\n",
      "[ 8.81e+09]\n",
      "[ 7.88e+10]\n",
      "[ 1.64e+09]\n",
      "[ 1.15e+09]\n",
      "[ 6.97e+09]\n",
      "[ 8.77e+09]\n",
      "[ 2.92e+09]\n",
      "[ 5.27e+09]\n",
      "[ 1.44e+10]\n",
      "[ 6.38e+09]\n",
      "[ 1.19e+10]\n",
      "[ 1.85e+10]\n",
      "[ 2.36e+07]\n",
      "[ 9.18e+08]\n",
      "[ 1.40e+10]\n",
      "[ 5.45e+09]\n",
      "[ 1.22e+09]\n",
      "[ 1.13e+09]\n",
      "[ 1.77e+09]\n",
      "[ 6.48e+09]\n",
      "[ 3.41e+09]\n",
      "[ 5.05e+09]\n",
      "[ 4.33e+08]\n",
      "[ 1.30e+09]\n",
      "[ 2.09e+08]\n",
      "[ 4.25e+09]\n",
      "[ 2.64e+09]\n",
      "[ 7.90e+09]\n",
      "[ 5.51e+09]\n",
      "[ 1.74e+09]\n",
      "[ 8.59e+09]\n",
      "[ 6.26e+08]\n",
      "[ 4.82e+09]\n",
      "[ 9.21e+09]\n",
      "[ 5.89e+09]\n",
      "[ 1.23e+09]\n",
      "[ 6.20e+09]\n",
      "[ 4.76e+10]\n",
      "[ 1.93e+08]\n",
      "[ 7.66e+08]\n",
      "[ 3.02e+09]\n",
      "[ 7.70e+07]\n",
      "[ 2.08e+10]\n",
      "[ 7.04e+09]\n",
      "[ 1.09e+07]\n",
      "\n"
     ]
    }
   ],
   "source": [
    "print(sol['x'])"
   ]
  },
  {
   "cell_type": "code",
   "execution_count": 430,
   "metadata": {},
   "outputs": [],
   "source": [
    "alpha = np.array(list(sol['x']))"
   ]
  },
  {
   "cell_type": "code",
   "execution_count": 431,
   "metadata": {},
   "outputs": [
    {
     "data": {
      "text/plain": [
       "array([1.08792302e+07, 7.04187514e+09, 2.08409799e+10, 7.69613680e+07,\n",
       "       3.02178340e+09, 7.65817223e+08, 1.93298250e+08, 4.76288322e+10,\n",
       "       6.20066228e+09, 1.23398001e+09, 5.89489160e+09, 9.21135005e+09,\n",
       "       4.82331972e+09, 6.25578054e+08, 8.58616695e+09, 1.73918084e+09,\n",
       "       5.50775099e+09, 7.90337525e+09, 2.64071710e+09, 4.24713318e+09,\n",
       "       2.08868270e+08, 1.30042405e+09, 4.33283122e+08, 5.05476223e+09,\n",
       "       3.40576648e+09, 6.47538989e+09, 1.77229469e+09, 1.13478701e+09,\n",
       "       1.21964535e+09, 5.45048690e+09, 1.40354135e+10, 9.18253618e+08,\n",
       "       2.36384952e+07, 1.84925030e+10, 1.19361251e+10, 6.37727622e+09,\n",
       "       1.43860377e+10, 5.26703846e+09, 2.92294761e+09, 8.77052585e+09,\n",
       "       6.96695107e+09, 1.15330889e+09, 1.63968490e+09, 7.87657951e+10,\n",
       "       8.80933871e+09, 1.16531095e+08, 4.96854393e+08, 2.85737057e+10,\n",
       "       5.73439393e+08, 2.10506651e+09, 7.77612959e+08, 1.19870452e+09,\n",
       "       9.49771468e+09, 1.16079574e+11, 1.53019586e+10, 1.35338839e+09,\n",
       "       1.41103356e+10, 1.00400123e+10, 4.21068343e+09, 2.00078011e+09,\n",
       "       8.78616245e+10, 6.37718305e+08, 2.14418363e+09, 1.35246206e+09,\n",
       "       5.78100473e+09, 1.09366534e+09, 9.75509642e+09, 9.49699058e+09,\n",
       "       6.92932349e+08, 2.60815495e+09, 1.46239199e+10, 7.12356454e+09,\n",
       "       1.03331691e+09, 1.76216713e+10, 1.72462949e+10, 1.12412313e+09,\n",
       "       2.55810385e+09, 2.79015111e+08, 3.43706168e+09, 2.30237168e+09,\n",
       "       7.56931050e+09, 4.58942016e+08, 9.29995973e+08, 8.85648510e+09,\n",
       "       8.11634371e+09, 1.68844586e+09, 4.50503941e+08, 1.49901277e+03,\n",
       "       1.95411850e+09, 3.40667879e+09, 4.84291586e+09, 1.03505791e+09,\n",
       "       3.17514984e+09, 1.73663396e+09, 3.90196809e+09, 1.01895152e+10,\n",
       "       2.73303744e+08, 3.53991322e+09, 4.87619409e+09, 1.29040282e+09])"
      ]
     },
     "execution_count": 431,
     "metadata": {},
     "output_type": "execute_result"
    }
   ],
   "source": [
    "alpha[::-1]"
   ]
  },
  {
   "cell_type": "code",
   "execution_count": 432,
   "metadata": {},
   "outputs": [],
   "source": [
    "#filtering for best 10\n",
    "k = alpha.argsort()[::-1][:10]"
   ]
  },
  {
   "cell_type": "code",
   "execution_count": 433,
   "metadata": {},
   "outputs": [],
   "source": [
    "# taking one support vector\n",
    "K = k[0]"
   ]
  },
  {
   "cell_type": "code",
   "execution_count": 434,
   "metadata": {},
   "outputs": [],
   "source": [
    "for i in range(100):\n",
    "    temp += - alpha[i] * D[i] * polynomial_kernel(np.array(X[i]),np.array(X[K]),2)\n",
    "theta = D[K] - temp"
   ]
  },
  {
   "cell_type": "code",
   "execution_count": 435,
   "metadata": {},
   "outputs": [
    {
     "data": {
      "text/plain": [
       "-2.545784819871187"
      ]
     },
     "execution_count": 435,
     "metadata": {},
     "output_type": "execute_result"
    }
   ],
   "source": [
    "theta"
   ]
  },
  {
   "cell_type": "code",
   "execution_count": 436,
   "metadata": {},
   "outputs": [
    {
     "data": {
      "text/plain": [
       "array([1.29040282e+09, 4.87619409e+09, 3.53991322e+09, 2.73303744e+08,\n",
       "       1.01895152e+10, 3.90196809e+09, 1.73663396e+09, 3.17514984e+09,\n",
       "       1.03505791e+09, 4.84291586e+09, 3.40667879e+09, 1.95411850e+09,\n",
       "       1.49901277e+03, 4.50503941e+08, 1.68844586e+09, 8.11634371e+09,\n",
       "       8.85648510e+09, 9.29995973e+08, 4.58942016e+08, 7.56931050e+09,\n",
       "       2.30237168e+09, 3.43706168e+09, 2.79015111e+08, 2.55810385e+09,\n",
       "       1.12412313e+09, 1.72462949e+10, 1.76216713e+10, 1.03331691e+09,\n",
       "       7.12356454e+09, 1.46239199e+10, 2.60815495e+09, 6.92932349e+08,\n",
       "       9.49699058e+09, 9.75509642e+09, 1.09366534e+09, 5.78100473e+09,\n",
       "       1.35246206e+09, 2.14418363e+09, 6.37718305e+08, 8.78616245e+10,\n",
       "       2.00078011e+09, 4.21068343e+09, 1.00400123e+10, 1.41103356e+10,\n",
       "       1.35338839e+09, 1.53019586e+10, 1.16079574e+11, 9.49771468e+09,\n",
       "       1.19870452e+09, 7.77612959e+08, 2.10506651e+09, 5.73439393e+08,\n",
       "       2.85737057e+10, 4.96854393e+08, 1.16531095e+08, 8.80933871e+09,\n",
       "       7.87657951e+10, 1.63968490e+09, 1.15330889e+09, 6.96695107e+09,\n",
       "       8.77052585e+09, 2.92294761e+09, 5.26703846e+09, 1.43860377e+10,\n",
       "       6.37727622e+09, 1.19361251e+10, 1.84925030e+10, 2.36384952e+07,\n",
       "       9.18253618e+08, 1.40354135e+10, 5.45048690e+09, 1.21964535e+09,\n",
       "       1.13478701e+09, 1.77229469e+09, 6.47538989e+09, 3.40576648e+09,\n",
       "       5.05476223e+09, 4.33283122e+08, 1.30042405e+09, 2.08868270e+08,\n",
       "       4.24713318e+09, 2.64071710e+09, 7.90337525e+09, 5.50775099e+09,\n",
       "       1.73918084e+09, 8.58616695e+09, 6.25578054e+08, 4.82331972e+09,\n",
       "       9.21135005e+09, 5.89489160e+09, 1.23398001e+09, 6.20066228e+09,\n",
       "       4.76288322e+10, 1.93298250e+08, 7.65817223e+08, 3.02178340e+09,\n",
       "       7.69613680e+07, 2.08409799e+10, 7.04187514e+09, 1.08792302e+07])"
      ]
     },
     "execution_count": 436,
     "metadata": {},
     "output_type": "execute_result"
    }
   ],
   "source": [
    "alpha"
   ]
  },
  {
   "cell_type": "markdown",
   "metadata": {},
   "source": [
    "#### g(x)"
   ]
  },
  {
   "cell_type": "code",
   "execution_count": 437,
   "metadata": {},
   "outputs": [],
   "source": [
    "gx = list()\n",
    "for j in range(100):\n",
    "    temp = 0\n",
    "    for i in range(100):\n",
    "        temp += alpha[i] * D[i] * polynomial_kernel(np.array(X[i]),X[j],2)\n",
    "    g_x = temp + theta\n",
    "    gx.append(temp)"
   ]
  },
  {
   "cell_type": "code",
   "execution_count": 438,
   "metadata": {
    "scrolled": true
   },
   "outputs": [],
   "source": [
    "g = np.array(gx)"
   ]
  },
  {
   "cell_type": "code",
   "execution_count": 444,
   "metadata": {},
   "outputs": [
    {
     "data": {
      "text/plain": [
       "array([ 9.24188644e-05,  1.00651756e-04, -1.93379819e-05,  1.36815012e-04,\n",
       "        1.72285363e-04,  2.71793455e-04, -3.51686031e-05,  3.69176269e-06,\n",
       "        3.24789435e-05,  2.43891031e-04,  1.93420798e-04,  3.08416784e-05,\n",
       "        1.05597079e-04, -1.63055956e-04,  3.53541225e-04,  9.79471952e-05,\n",
       "        3.18087637e-04,  3.85865569e-05, -1.34322792e-04, -1.04863197e-04,\n",
       "        9.29608941e-05,  6.07464463e-05,  1.88559294e-04,  1.30504370e-04,\n",
       "        1.10983849e-04,  2.83431262e-04, -1.97986141e-04, -3.08159739e-04,\n",
       "       -1.09072775e-04,  7.74580985e-05,  8.75405967e-05,  2.04347074e-04,\n",
       "        1.44038349e-05, -2.64924020e-05,  3.68133187e-04,  2.16286629e-04,\n",
       "        5.45959920e-05,  4.98276204e-05,  2.01962888e-04,  1.59494579e-04,\n",
       "        2.12643296e-04,  1.29120424e-04,  1.05017796e-04,  1.67764723e-04,\n",
       "        3.06442380e-04,  3.15506011e-04,  1.74652785e-04,  2.70292163e-04,\n",
       "        1.43572688e-04,  8.85426998e-05,  2.41935253e-04,  3.64743173e-05,\n",
       "        6.22235239e-05, -8.06637108e-05,  1.33126974e-04,  3.28678638e-04,\n",
       "        2.96536833e-04,  2.89712101e-04,  2.68543139e-04,  2.20198184e-04,\n",
       "        2.87801027e-04,  5.01461327e-05,  3.09552997e-04,  1.70059502e-04,\n",
       "        5.83771616e-05,  4.26072627e-04,  1.63637102e-04,  2.70012766e-04,\n",
       "        1.80490315e-04,  2.07137316e-04,  1.21796504e-04, -3.95365059e-05,\n",
       "        9.60379839e-05,  2.25834548e-04, -2.28136778e-05,  1.67507678e-04,\n",
       "        5.99492341e-05, -7.94120133e-05,  7.71787018e-05, -1.73553824e-04,\n",
       "        2.72560865e-04,  3.19540501e-04,  2.75248662e-04,  8.52029771e-05,\n",
       "        7.67931342e-05,  8.53035599e-05, -2.25055963e-04,  3.61476094e-04,\n",
       "        2.90676951e-04,  4.60632145e-06, -1.77288428e-04, -5.55720180e-05,\n",
       "        1.39202923e-04,  3.03592533e-04,  2.21870840e-04,  2.18190253e-05,\n",
       "        4.57908958e-04,  8.76188278e-05,  2.78558582e-05,  1.63234770e-04])"
      ]
     },
     "execution_count": 444,
     "metadata": {},
     "output_type": "execute_result"
    }
   ],
   "source": [
    "g"
   ]
  },
  {
   "cell_type": "code",
   "execution_count": 442,
   "metadata": {},
   "outputs": [
    {
     "data": {
      "text/plain": [
       "array([], dtype=float64)"
      ]
     },
     "execution_count": 442,
     "metadata": {},
     "output_type": "execute_result"
    }
   ],
   "source": [
    "g [(g>=-1.1) & (g<=-0.9)]"
   ]
  },
  {
   "cell_type": "code",
   "execution_count": 443,
   "metadata": {},
   "outputs": [
    {
     "data": {
      "text/plain": [
       "array([], dtype=float64)"
      ]
     },
     "execution_count": 443,
     "metadata": {},
     "output_type": "execute_result"
    }
   ],
   "source": [
    "g [(g<=1.1) & (g >= 0.9)]"
   ]
  },
  {
   "cell_type": "code",
   "execution_count": 441,
   "metadata": {},
   "outputs": [],
   "source": [
    "# get the equation of hyperplane -done\n",
    "# plot the g(x) functions\n",
    "# then mix matcth hyperplance equations -done tried poly, linear, gaussian"
   ]
  }
 ],
 "metadata": {
  "kernelspec": {
   "display_name": "Python 3",
   "language": "python",
   "name": "python3"
  },
  "language_info": {
   "codemirror_mode": {
    "name": "ipython",
    "version": 3
   },
   "file_extension": ".py",
   "mimetype": "text/x-python",
   "name": "python",
   "nbconvert_exporter": "python",
   "pygments_lexer": "ipython3",
   "version": "3.7.0"
  }
 },
 "nbformat": 4,
 "nbformat_minor": 2
}
