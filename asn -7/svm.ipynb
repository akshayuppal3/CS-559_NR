{
 "cells": [
  {
   "cell_type": "code",
   "execution_count": 11,
   "metadata": {},
   "outputs": [],
   "source": [
    "def get_random_points(a, b, n):\n",
    "    x = list()\n",
    "    for i in range(n):\n",
    "        temp = random.uniform(a, b)\n",
    "        x.append(temp)\n",
    "    return x"
   ]
  },
  {
   "cell_type": "code",
   "execution_count": 17,
   "metadata": {},
   "outputs": [],
   "source": [
    "def get_desired_points(X):\n",
    "    d = list()\n",
    "    for x1,x2 in X:\n",
    "        if (x2 < 1/5 * math.sin(10*x1) + 0.3) or ((x2 - 0.8)**2 + (x1 - 0.5)**2 < (0.15)**2):\n",
    "            d.append(1)\n",
    "        else:\n",
    "            d.append(-1)\n",
    "    return d"
   ]
  },
  {
   "cell_type": "code",
   "execution_count": 484,
   "metadata": {},
   "outputs": [],
   "source": [
    "# test scenario\n",
    "def get_x_test():\n",
    "    x = [[1,1],[2,2],[-1,-1],[-1,-2],[-2,0]]\n",
    "    return x"
   ]
  },
  {
   "cell_type": "code",
   "execution_count": 553,
   "metadata": {},
   "outputs": [],
   "source": [
    "# test scenario\n",
    "C_p = [[1,1],[2,2]]\n",
    "C_n = [[-1,-1],[-1,-2],[-2,0]]\n",
    "def get_d_test(X):\n",
    "    d = list()\n",
    "    for x in X:\n",
    "        if x in C_p:\n",
    "            d.append(1)\n",
    "        if x in C_n:\n",
    "            d.append(-1)\n",
    "    return d"
   ]
  },
  {
   "cell_type": "code",
   "execution_count": 13,
   "metadata": {},
   "outputs": [],
   "source": [
    "def linear_kernel(xi,xj):\n",
    "    return np.dot(xi.T,xj)"
   ]
  },
  {
   "cell_type": "code",
   "execution_count": 14,
   "metadata": {},
   "outputs": [],
   "source": [
    "def polynomial_kernel(Xi,Xj,d):\n",
    "    return (1 + np.dot(Xi.T,Xj))**d"
   ]
  },
  {
   "cell_type": "code",
   "execution_count": 453,
   "metadata": {},
   "outputs": [],
   "source": [
    "def check_symmetric(a, tol=1e-8):\n",
    "    return np.allclose(a, a.T, atol=tol)"
   ]
  },
  {
   "cell_type": "code",
   "execution_count": 224,
   "metadata": {},
   "outputs": [],
   "source": [
    "import numpy as np\n",
    "import random\n",
    "import math\n",
    "import matplotlib.pyplot as plt\n",
    "from numpy.linalg import norm"
   ]
  },
  {
   "cell_type": "code",
   "execution_count": 225,
   "metadata": {},
   "outputs": [],
   "source": [
    "def gaussian_kernel(Xi,Xj,sigma):\n",
    "    return math.exp(-(norm(Xi - Xj)**2/sigma**2))"
   ]
  },
  {
   "cell_type": "code",
   "execution_count": 223,
   "metadata": {},
   "outputs": [],
   "source": [
    "import numpy as np\n",
    "import random\n",
    "import math\n",
    "import matplotlib.pyplot as plt\n",
    "from numpy.linalg import norm"
   ]
  },
  {
   "cell_type": "code",
   "execution_count": 165,
   "metadata": {},
   "outputs": [],
   "source": [
    "from cvxopt import solvers, matrix"
   ]
  },
  {
   "cell_type": "code",
   "execution_count": 387,
   "metadata": {},
   "outputs": [
    {
     "name": "stdout",
     "output_type": "stream",
     "text": [
      "The autoreload extension is already loaded. To reload it, use:\n",
      "  %reload_ext autoreload\n"
     ]
    }
   ],
   "source": [
    "%load_ext autoreload\n",
    "%autoreload 2"
   ]
  },
  {
   "cell_type": "code",
   "execution_count": 414,
   "metadata": {},
   "outputs": [],
   "source": [
    "X1 = get_random_points(0, 1, 100)\n",
    "X2 = get_random_points(0, 1, 100)\n",
    "X = [[ele1,ele2] for ele1,ele2 in zip(X1,X2)]\n",
    "D = get_desired_points(X)"
   ]
  },
  {
   "cell_type": "code",
   "execution_count": 592,
   "metadata": {},
   "outputs": [],
   "source": [
    "X =  get_x_test()\n",
    "D = get_d_test(X)"
   ]
  },
  {
   "cell_type": "code",
   "execution_count": 593,
   "metadata": {},
   "outputs": [
    {
     "data": {
      "text/plain": [
       "[[1, 1], [2, 2], [-1, -1], [-1, -2], [-2, 0]]"
      ]
     },
     "execution_count": 593,
     "metadata": {},
     "output_type": "execute_result"
    }
   ],
   "source": [
    "X"
   ]
  },
  {
   "cell_type": "code",
   "execution_count": 496,
   "metadata": {},
   "outputs": [
    {
     "data": {
      "text/plain": [
       "[1, 1, -1, -1, -1]"
      ]
     },
     "execution_count": 496,
     "metadata": {},
     "output_type": "execute_result"
    }
   ],
   "source": [
    "D"
   ]
  },
  {
   "cell_type": "code",
   "execution_count": 455,
   "metadata": {},
   "outputs": [],
   "source": [
    "d=3"
   ]
  },
  {
   "cell_type": "code",
   "execution_count": 499,
   "metadata": {},
   "outputs": [],
   "source": [
    "P = []\n",
    "for i in range(len(D)):\n",
    "    row = []\n",
    "    for j in range(len(D)):\n",
    "        temp = D[i] * D[j] * linear_kernel(np.array(X[i]),np.array(X[j]))\n",
    "        row.append(temp)\n",
    "    P.append(row)"
   ]
  },
  {
   "cell_type": "code",
   "execution_count": 518,
   "metadata": {},
   "outputs": [
    {
     "data": {
      "text/plain": [
       "<5x5 matrix, tc='d'>"
      ]
     },
     "execution_count": 518,
     "metadata": {},
     "output_type": "execute_result"
    }
   ],
   "source": [
    "P = matrix(np.array(P), (len(D),len(D)), 'd')\n",
    "P"
   ]
  },
  {
   "cell_type": "code",
   "execution_count": 519,
   "metadata": {},
   "outputs": [
    {
     "data": {
      "text/plain": [
       "True"
      ]
     },
     "execution_count": 519,
     "metadata": {},
     "output_type": "execute_result"
    }
   ],
   "source": [
    "p = np.matrix(P)\n",
    "check_symmetric(p)"
   ]
  },
  {
   "cell_type": "code",
   "execution_count": 520,
   "metadata": {},
   "outputs": [],
   "source": [
    "q = matrix(-1 * np.ones(len(D)))"
   ]
  },
  {
   "cell_type": "code",
   "execution_count": 521,
   "metadata": {},
   "outputs": [],
   "source": [
    "h = matrix(np.zeros(len(D)))"
   ]
  },
  {
   "cell_type": "code",
   "execution_count": 522,
   "metadata": {},
   "outputs": [],
   "source": [
    "G = matrix(-1 * np.eye(len(D))) ##"
   ]
  },
  {
   "cell_type": "code",
   "execution_count": 523,
   "metadata": {},
   "outputs": [],
   "source": [
    "b = matrix([0], (1,1), 'd')"
   ]
  },
  {
   "cell_type": "code",
   "execution_count": 524,
   "metadata": {},
   "outputs": [],
   "source": [
    "A = matrix(D, (1,len(D)) , 'd')"
   ]
  },
  {
   "cell_type": "code",
   "execution_count": 525,
   "metadata": {
    "scrolled": true
   },
   "outputs": [
    {
     "name": "stdout",
     "output_type": "stream",
     "text": [
      "     pcost       dcost       gap    pres   dres\n",
      " 0: -4.2095e-01 -8.9611e-01  9e+00  3e+00  1e+00\n",
      " 1: -5.5152e-02 -7.2792e-01  7e-01  3e-16  4e-16\n",
      " 2: -2.2452e-01 -2.8979e-01  7e-02  6e-17  2e-16\n",
      " 3: -2.4687e-01 -2.5283e-01  6e-03  6e-17  1e-16\n",
      " 4: -2.4973e-01 -2.5027e-01  5e-04  3e-17  8e-17\n",
      " 5: -2.4996e-01 -2.5004e-01  8e-05  3e-17  7e-17\n",
      " 6: -2.4999e-01 -2.5001e-01  1e-05  6e-17  2e-16\n",
      " 7: -2.5000e-01 -2.5000e-01  2e-06  6e-17  2e-16\n",
      " 8: -2.5000e-01 -2.5000e-01  2e-07  4e-17  1e-16\n",
      "Optimal solution found.\n"
     ]
    }
   ],
   "source": [
    "sol=solvers.qp( P, q, G, h, A, b)"
   ]
  },
  {
   "cell_type": "code",
   "execution_count": 526,
   "metadata": {
    "scrolled": true
   },
   "outputs": [
    {
     "name": "stdout",
     "output_type": "stream",
     "text": [
      "[ 2.50e-01]\n",
      "[ 3.90e-09]\n",
      "[ 2.50e-01]\n",
      "[ 7.80e-09]\n",
      "[ 3.19e-04]\n",
      "\n"
     ]
    }
   ],
   "source": [
    "print(sol['x'])"
   ]
  },
  {
   "cell_type": "code",
   "execution_count": 527,
   "metadata": {},
   "outputs": [],
   "source": [
    "alpha = np.array(list(sol['x']))"
   ]
  },
  {
   "cell_type": "code",
   "execution_count": 528,
   "metadata": {},
   "outputs": [
    {
     "data": {
      "text/plain": [
       "array([3.18614924e-04, 7.79872461e-09, 2.49681377e-01, 3.89859258e-09,\n",
       "       2.49999996e-01])"
      ]
     },
     "execution_count": 528,
     "metadata": {},
     "output_type": "execute_result"
    }
   ],
   "source": [
    "alpha[::-1]"
   ]
  },
  {
   "cell_type": "code",
   "execution_count": 529,
   "metadata": {},
   "outputs": [],
   "source": [
    "#filtering for best 10\n",
    "k = alpha.argsort()[::-1][:10]"
   ]
  },
  {
   "cell_type": "code",
   "execution_count": 611,
   "metadata": {},
   "outputs": [],
   "source": [
    "# taking one support vector\n",
    "K = k[0]"
   ]
  },
  {
   "cell_type": "code",
   "execution_count": 532,
   "metadata": {},
   "outputs": [],
   "source": [
    "for i in range(len(D)):\n",
    "    temp += - alpha[i] * D[i] * linear_kernel(np.array(X[i]),np.array(X[K]))\n",
    "theta = D[K] - temp"
   ]
  },
  {
   "cell_type": "code",
   "execution_count": 533,
   "metadata": {},
   "outputs": [
    {
     "data": {
      "text/plain": [
       "5.00000045226209"
      ]
     },
     "execution_count": 533,
     "metadata": {},
     "output_type": "execute_result"
    }
   ],
   "source": [
    "theta"
   ]
  },
  {
   "cell_type": "code",
   "execution_count": 534,
   "metadata": {},
   "outputs": [
    {
     "data": {
      "text/plain": [
       "array([2.49999996e-01, 3.89859258e-09, 2.49681377e-01, 7.79872461e-09,\n",
       "       3.18614924e-04])"
      ]
     },
     "execution_count": 534,
     "metadata": {},
     "output_type": "execute_result"
    }
   ],
   "source": [
    "alpha"
   ]
  },
  {
   "cell_type": "markdown",
   "metadata": {},
   "source": [
    "#### g(x)"
   ]
  },
  {
   "cell_type": "code",
   "execution_count": 547,
   "metadata": {},
   "outputs": [],
   "source": [
    "gx = list()\n",
    "for j in range(len(D)):\n",
    "    temp = 0\n",
    "    for i in range(len(D)):\n",
    "        temp += alpha[i] * D[i] * linear_kernel(np.array(X[i]),X[j])\n",
    "    g_x = temp + theta\n",
    "    gx.append(temp)"
   ]
  },
  {
   "cell_type": "code",
   "execution_count": 614,
   "metadata": {},
   "outputs": [],
   "source": [
    "def get_gx(X,D,K,Xk):\n",
    "    temp = 0\n",
    "    for i in range(len(D)):\n",
    "        temp += - alpha[i] * D[i] * linear_kernel(np.array(X[i]),np.array(X[K]))\n",
    "        theta = D[K] - temp\n",
    "    temp = 0\n",
    "    for i in range(len(D)):\n",
    "        temp += alpha[i] * D[i] * linear_kernel(np.array(X[i]),Xk)\n",
    "    g_x = temp + theta\n",
    "    return(g_x)      "
   ]
  },
  {
   "cell_type": "code",
   "execution_count": 587,
   "metadata": {},
   "outputs": [
    {
     "data": {
      "text/plain": [
       "0.01"
      ]
     },
     "execution_count": 587,
     "metadata": {},
     "output_type": "execute_result"
    }
   ],
   "source": [
    "X[1]"
   ]
  },
  {
   "cell_type": "code",
   "execution_count": 548,
   "metadata": {
    "scrolled": true
   },
   "outputs": [],
   "source": [
    "g = np.array(gx)"
   ]
  },
  {
   "cell_type": "code",
   "execution_count": 549,
   "metadata": {},
   "outputs": [
    {
     "data": {
      "text/plain": [
       "array([ 1.00000002,  2.00000003, -1.00000002, -1.49968141, -1.00063724])"
      ]
     },
     "execution_count": 549,
     "metadata": {},
     "output_type": "execute_result"
    }
   ],
   "source": [
    "g"
   ]
  },
  {
   "cell_type": "code",
   "execution_count": 550,
   "metadata": {},
   "outputs": [
    {
     "data": {
      "text/plain": [
       "array([-1.00000002, -1.00063724])"
      ]
     },
     "execution_count": 550,
     "metadata": {},
     "output_type": "execute_result"
    }
   ],
   "source": [
    "g [(g>=-1.1) & (g<=-0.9)]"
   ]
  },
  {
   "cell_type": "code",
   "execution_count": 551,
   "metadata": {},
   "outputs": [
    {
     "data": {
      "text/plain": [
       "array([1.00000002])"
      ]
     },
     "execution_count": 551,
     "metadata": {},
     "output_type": "execute_result"
    }
   ],
   "source": [
    "g [(g<=1.1) & (g >= 0.9)]"
   ]
  },
  {
   "cell_type": "code",
   "execution_count": 561,
   "metadata": {
    "scrolled": true
   },
   "outputs": [
    {
     "data": {
      "image/png": "[encoded data removed]",
      "text/plain": [
       "<Figure size 432x288 with 1 Axes>"
      ]
     },
     "metadata": {
      "needs_background": "light"
     },
     "output_type": "display_data"
    }
   ],
   "source": [
    "plt.scatter([ele[0] for ele in C_p], [ele[1] for ele in C_p] , color='b',marker='o')\n",
    "plt.scatter([ele[0] for ele in C_n], [ele[1] for ele in C_n] , color='r',marker='x')\n",
    "plt.xlabel('x cordinate')\n",
    "plt.ylabel('y cordinate')\n",
    "# plt.figure(num=None, figsize=(8, 6), dpi=80, facecolor='w', edgecolor='k')\n",
    "plt.show()"
   ]
  },
  {
   "cell_type": "code",
   "execution_count": 615,
   "metadata": {},
   "outputs": [
    {
     "name": "stdout",
     "output_type": "stream",
     "text": [
      "-2 -2\n",
      "-1.559753881608117e-08\n",
      "-2 -1\n",
      "0.49968138117703154\n",
      "-2 0\n",
      "0.9993627779516021\n",
      "-2 1\n",
      "1.4990441747261727\n",
      "-1 -2\n",
      "0.5003186032254294\n",
      "-1 -1\n",
      "1.0000000000000002\n",
      "-1 0\n",
      "1.4996813967745708\n",
      "-1 1\n",
      "1.9993627935491414\n",
      "0 -2\n",
      "1.0006372220483981\n",
      "0 -1\n",
      "1.5003186188229687\n",
      "0 0\n",
      "2.0000000155975393\n",
      "0 1\n",
      "2.4996814123721096\n",
      "1 -2\n",
      "1.5009558408713666\n",
      "1 -1\n",
      "2.0006372376459374\n",
      "1 0\n",
      "2.5003186344205077\n",
      "1 1\n",
      "3.0000000311950785\n"
     ]
    },
    {
     "data": {
      "image/png": "[encoded data removed]",
      "text/plain": [
       "<Figure size 432x288 with 1 Axes>"
      ]
     },
     "metadata": {
      "needs_background": "light"
     },
     "output_type": "display_data"
    }
   ],
   "source": [
    "new_range = np.arange(-2,2)\n",
    "for x1 in new_range:\n",
    "    for x2 in new_range:\n",
    "        print(x1,x2)\n",
    "        g = get_gx(X,D,K,np.array([x1,x2]))\n",
    "        print(g)\n",
    "        if (g <= 1.1 and g >= 0.9):\n",
    "            plt.scatter(x1,x2, color = 'y', marker='o')\n",
    "        if ((g>=-1.1) and (g<= -0.9)):\n",
    "            plt.scatter(x1,x2, color = 'g', marker='x')"
   ]
  },
  {
   "cell_type": "code",
   "execution_count": 441,
   "metadata": {},
   "outputs": [],
   "source": [
    "# get the equation of hyperplane -done\n",
    "# plot the g(x) functions\n",
    "# then mix matcth hyperplance equations -done tried poly, linear, gaussian"
   ]
  }
 ],
 "metadata": {
  "kernelspec": {
   "display_name": "Python 3",
   "language": "python",
   "name": "python3"
  },
  "language_info": {
   "codemirror_mode": {
    "name": "ipython",
    "version": 3
   },
   "file_extension": ".py",
   "mimetype": "text/x-python",
   "name": "python",
   "nbconvert_exporter": "python",
   "pygments_lexer": "ipython3",
   "version": "3.7.0"
  }
 },
 "nbformat": 4,
 "nbformat_minor": 2
}
