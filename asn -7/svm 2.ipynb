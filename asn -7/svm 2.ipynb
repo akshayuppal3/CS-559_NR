{
 "cells": [
  {
   "cell_type": "code",
   "execution_count": 327,
   "metadata": {},
   "outputs": [],
   "source": [
    "import numpy as np\n",
    "import random\n",
    "import math\n",
    "import matplotlib.pyplot as plt\n",
    "from numpy.linalg import norm\n",
    "from cvxopt import solvers, matrix"
   ]
  },
  {
   "cell_type": "code",
   "execution_count": 328,
   "metadata": {},
   "outputs": [
    {
     "name": "stdout",
     "output_type": "stream",
     "text": [
      "The autoreload extension is already loaded. To reload it, use:\n",
      "  %reload_ext autoreload\n"
     ]
    }
   ],
   "source": [
    "%load_ext autoreload\n",
    "%autoreload 2"
   ]
  },
  {
   "cell_type": "code",
   "execution_count": 329,
   "metadata": {},
   "outputs": [],
   "source": [
    "def get_p(X,D,kernel='poly',param=2):\n",
    "    P = []\n",
    "    variance = np.var(X)\n",
    "    for i in range(len(D)):\n",
    "        row = []\n",
    "        for j in range(len(D)):\n",
    "            if kernel is 'poly':\n",
    "                temp = D[i] * D[j] * polynomial_kernel(np.array(X[i]),np.array(X[j]),param)\n",
    "            elif kernel is 'gaussian':\n",
    "                temp = D[i] * D[j] * gaussian_kernel(np.array(X[i]),np.array(X[j]),variance)\n",
    "            elif kernel is 'linear':\n",
    "                temp = D[i] * D[j] * linear_kernel(np.array(X[i]),np.array(X[j]))               \n",
    "            row.append(temp)\n",
    "        P.append(row)\n",
    "    return P"
   ]
  },
  {
   "cell_type": "code",
   "execution_count": 330,
   "metadata": {},
   "outputs": [],
   "source": [
    "def get_random_points(a, b, n):\n",
    "    x = list()\n",
    "    for i in range(n):\n",
    "        temp = random.uniform(a, b)\n",
    "        x.append(temp)\n",
    "    return x"
   ]
  },
  {
   "cell_type": "code",
   "execution_count": 331,
   "metadata": {},
   "outputs": [],
   "source": [
    "def get_desired_points(X):\n",
    "    d = list()\n",
    "    for x1,x2 in X:\n",
    "        if (x2 < 1/5 * math.sin(10*x1) + 0.3) or ((x2 - 0.8)**2 + (x1 - 0.5)**2 < (0.15)**2):\n",
    "            d.append(1)\n",
    "        else:\n",
    "            d.append(-1)\n",
    "    return d"
   ]
  },
  {
   "cell_type": "code",
   "execution_count": 332,
   "metadata": {},
   "outputs": [],
   "source": [
    "def linear_kernel(xi,xj):\n",
    "    return np.dot(xi.T,xj)"
   ]
  },
  {
   "cell_type": "code",
   "execution_count": 333,
   "metadata": {},
   "outputs": [],
   "source": [
    "def polynomial_kernel(Xi,Xj,d):\n",
    "    return (1 + np.dot(Xi.T,Xj))**d"
   ]
  },
  {
   "cell_type": "code",
   "execution_count": 347,
   "metadata": {},
   "outputs": [],
   "source": [
    "def gaussian_kernel(Xi,Xj,sigma):\n",
    "    return math.exp(-(norm(Xi - Xj)**2/(sigma+0.5)**2))"
   ]
  },
  {
   "cell_type": "code",
   "execution_count": 348,
   "metadata": {},
   "outputs": [],
   "source": [
    "def check_symmetric(a, tol=1e-8):\n",
    "    return np.allclose(a, a.T, atol=tol)"
   ]
  },
  {
   "cell_type": "code",
   "execution_count": 349,
   "metadata": {},
   "outputs": [],
   "source": [
    "def get_alpha(X,D,kernel='poly',param=2):\n",
    "    P= get_p(X,D,kernel,param)\n",
    "    P = matrix(np.array(P), (len(D),len(D)), 'd')\n",
    "    q = matrix(-1 * np.ones(len(D)))\n",
    "    h = matrix(np.zeros(len(D)))\n",
    "    G = matrix(-1 * np.eye(len(D))) ##\n",
    "    b = matrix([0], (1,1), 'd')\n",
    "    A = matrix(D, (1,len(D)) , 'd')\n",
    "    sol=solvers.qp( P, q, G, h, A, b)\n",
    "    return (np.array(list(sol['x'])))"
   ]
  },
  {
   "cell_type": "code",
   "execution_count": 350,
   "metadata": {},
   "outputs": [],
   "source": [
    "#filtering for best 10\n",
    "def get_support_vector(alpha):\n",
    "    k= np.argwhere(alpha > 0.0001)\n",
    "    return k"
   ]
  },
  {
   "cell_type": "code",
   "execution_count": 351,
   "metadata": {},
   "outputs": [],
   "source": [
    "def get_theta(alpha,X,D,K,kernel='poly',param=2):\n",
    "    temp = 0\n",
    "    variance = np.var(X)\n",
    "    for i in range(len(D)):\n",
    "        if kernel is 'poly':\n",
    "             temp += alpha[i] * D[i] * polynomial_kernel(np.array(X[i]),np.array(X[K]),param) # param: degree for poly kernel\n",
    "        elif kernel is 'linear':\n",
    "            temp += alpha[i] * D[i] * linear_kernel(np.array(X[i]),np.array(X[K]))\n",
    "        elif kernel is 'gaussian':\n",
    "            temp += alpha[i] * D[i] * gaussian_kernel(np.array(X[i]),np.array(X[K]),variance) #parma: not needes , based on the variance\n",
    "    theta = D[K] - temp\n",
    "    return theta"
   ]
  },
  {
   "cell_type": "code",
   "execution_count": 352,
   "metadata": {},
   "outputs": [],
   "source": [
    "def get_gx(alpha,X,D,theta,Ik,Xk,kernel='poly',param=2):\n",
    "    temp = 0\n",
    "    variance = np.var(X)\n",
    "    for i in Ik:\n",
    "        if kernel is 'poly':\n",
    "            temp += alpha[i] * D[i] * polynomial_kernel(np.array(X[i]),Xk,param)\n",
    "        elif kernel is 'linear':\n",
    "            temp += alpha[i] * D[i] * linear_kernel(np.array(X[i]),Xk)\n",
    "        elif kernel is 'gaussian':\n",
    "            temp += alpha[i] * D[i] * gaussian_kernel(np.array(X[i]),Xk,variance)\n",
    "    g_x = temp + theta\n",
    "    return(g_x)      "
   ]
  },
  {
   "cell_type": "markdown",
   "metadata": {},
   "source": [
    "### Getting the input values"
   ]
  },
  {
   "cell_type": "code",
   "execution_count": 353,
   "metadata": {},
   "outputs": [],
   "source": [
    "X1 = get_random_points(0, 1, 100)\n",
    "X2 = get_random_points(0, 1, 100)\n",
    "X = [[ele1,ele2] for ele1,ele2 in zip(X1,X2)]\n",
    "D = get_desired_points(X)"
   ]
  },
  {
   "cell_type": "markdown",
   "metadata": {},
   "source": [
    "### Running the cvxopt as quadprog for the decision boundaries"
   ]
  },
  {
   "cell_type": "code",
   "execution_count": 354,
   "metadata": {
    "scrolled": true
   },
   "outputs": [
    {
     "name": "stdout",
     "output_type": "stream",
     "text": [
      "     pcost       dcost       gap    pres   dres\n",
      " 0: -3.8772e+01 -1.1140e+02  3e+02  1e+01  3e+00\n",
      " 1: -1.0612e+02 -2.0812e+02  2e+02  7e+00  2e+00\n",
      " 2: -3.0101e+02 -4.4966e+02  2e+02  5e+00  1e+00\n",
      " 3: -5.2095e+02 -7.1599e+02  2e+02  5e+00  1e+00\n",
      " 4: -1.3086e+03 -1.6237e+03  4e+02  4e+00  1e+00\n",
      " 5: -2.4165e+03 -2.9649e+03  6e+02  4e+00  9e-01\n",
      " 6: -4.5527e+03 -5.5728e+03  1e+03  3e+00  7e-01\n",
      " 7: -6.0207e+03 -7.2856e+03  1e+03  2e+00  5e-01\n",
      " 8: -6.9782e+03 -7.5483e+03  6e+02  5e-01  1e-01\n",
      " 9: -7.0281e+03 -7.0560e+03  3e+01  2e-02  4e-03\n",
      "10: -7.0312e+03 -7.0321e+03  9e-01  4e-04  8e-05\n",
      "11: -7.0316e+03 -7.0316e+03  5e-02  4e-06  1e-06\n",
      "12: -7.0316e+03 -7.0316e+03  9e-04  4e-08  1e-08\n",
      "Optimal solution found.\n"
     ]
    }
   ],
   "source": [
    "alpha = get_alpha(X,D,'gaussian')\n",
    "K = get_support_vector(alpha)"
   ]
  },
  {
   "cell_type": "code",
   "execution_count": 355,
   "metadata": {},
   "outputs": [
    {
     "data": {
      "text/plain": [
       "-0.2896315144691626"
      ]
     },
     "execution_count": 355,
     "metadata": {},
     "output_type": "execute_result"
    }
   ],
   "source": [
    "theta"
   ]
  },
  {
   "cell_type": "code",
   "execution_count": 356,
   "metadata": {},
   "outputs": [],
   "source": [
    "K= [idx for idx,val in enumerate(alpha) if float(val)>0.001]"
   ]
  },
  {
   "cell_type": "markdown",
   "metadata": {},
   "source": [
    "## Plotting the decision boundaries"
   ]
  },
  {
   "cell_type": "markdown",
   "metadata": {},
   "source": [
    "##### I am using the gaussian kernel with sigma being the variance in the input values (X)+ 0.5(to adjust the separtaion of the boundaries)"
   ]
  },
  {
   "cell_type": "code",
   "execution_count": 359,
   "metadata": {},
   "outputs": [
    {
     "data": {
      "image/png": "[encoded data removed]",
      "text/plain": [
       "<Figure size 432x288 with 1 Axes>"
      ]
     },
     "metadata": {
      "needs_background": "light"
     },
     "output_type": "display_data"
    }
   ],
   "source": [
    "for (x, y), d in zip(X, D):\n",
    "    if d is 1:\n",
    "        plt.scatter(x, y, color='b', marker='o')\n",
    "    elif d is -1:\n",
    "        plt.scatter(x, y, color='r', marker='o')\n",
    "theta = get_theta(alpha,X, D, K[1], kernel=\"gaussian\")\n",
    "new_range = np.arange(0, 1, 0.01)\n",
    "for x1 in new_range:\n",
    "    for x2 in new_range:\n",
    "        g = get_gx(alpha, X, D, theta,Ik=K, Xk=np.array([x1, x2]),kernel= 'gaussian')\n",
    "        if (g <= 1.1 and g >= 0.9):\n",
    "            plt.scatter(x1, x2, color='m', marker='o')\n",
    "        if ((g >= -1.1) and (g <= -0.9)):\n",
    "            plt.scatter(x1, x2, color='c', marker='o')\n",
    "        if ((g >= -0.1) and (g <= 0.1)):\n",
    "            plt.scatter(x1, x2, color='y', marker='o')\n",
    "plt.show()"
   ]
  },
  {
   "cell_type": "markdown",
   "metadata": {},
   "source": [
    "##### So Gaussian kernel with variance equal to the variance in the input + value(0.5) to separate the decision boundaries helped to plot the curve.\n"
   ]
  }
 ],
 "metadata": {
  "kernelspec": {
   "display_name": "Python 3",
   "language": "python",
   "name": "python3"
  },
  "language_info": {
   "codemirror_mode": {
    "name": "ipython",
    "version": 3
   },
   "file_extension": ".py",
   "mimetype": "text/x-python",
   "name": "python",
   "nbconvert_exporter": "python",
   "pygments_lexer": "ipython3",
   "version": "3.7.0"
  }
 },
 "nbformat": 4,
 "nbformat_minor": 2
}
