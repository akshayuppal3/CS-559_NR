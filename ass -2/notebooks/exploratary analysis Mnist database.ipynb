{
 "cells": [
  {
   "cell_type": "code",
   "execution_count": 2,
   "metadata": {},
   "outputs": [],
   "source": [
    "import numpy as np\n",
    "import pandas as pd"
   ]
  },
  {
   "cell_type": "code",
   "execution_count": 38,
   "metadata": {},
   "outputs": [],
   "source": [
    "import gzip\n",
    "import struct"
   ]
  },
  {
   "cell_type": "code",
   "execution_count": 178,
   "metadata": {},
   "outputs": [
    {
     "data": {
      "text/plain": [
       "'little'"
      ]
     },
     "execution_count": 178,
     "metadata": {},
     "output_type": "execute_result"
    }
   ],
   "source": [
    "sys.byteorder"
   ]
  },
  {
   "cell_type": "markdown",
   "metadata": {},
   "source": [
    "##### TRAINING SET IMAGE FILE (train-images-idx3-ubyte)\n",
    "##### TRAINING SET LABEL FILE (train-labels-idx1-ubyte)\n",
    "##### TEST SET LABEL FILE (t10k-labels-idx1-ubyte)\n",
    "##### TEST SET IMAGE FILE (t10k-images-idx3-ubyte)"
   ]
  },
  {
   "cell_type": "code",
   "execution_count": 540,
   "metadata": {},
   "outputs": [],
   "source": [
    "files = {'imagefile':'image files//train-images-idx3-ubyte.gz','imagelabel':'image files//train-labels-idx1-ubyte.gz'\n",
    "        ,'testimage':'image files//t10k-images-idx3-ubyte.gz','testlabel':'image files//t10k-labels-idx1-ubyte.gz'}"
   ]
  },
  {
   "cell_type": "code",
   "execution_count": 361,
   "metadata": {},
   "outputs": [],
   "source": [
    "f=gzip.open('image files//train-images-idx3-ubyte.gz','rb')"
   ]
  },
  {
   "cell_type": "code",
   "execution_count": 262,
   "metadata": {},
   "outputs": [],
   "source": [
    "try:\n",
    "    magic = struct.unpack('4B', f.read(4))\n",
    "except struct.error as  e:\n",
    "    print(e)"
   ]
  },
  {
   "cell_type": "code",
   "execution_count": 263,
   "metadata": {},
   "outputs": [
    {
     "name": "stdout",
     "output_type": "stream",
     "text": [
      "(0, 0, 8, 3)\n"
     ]
    }
   ],
   "source": [
    "print (magic)"
   ]
  },
  {
   "cell_type": "code",
   "execution_count": 264,
   "metadata": {},
   "outputs": [
    {
     "name": "stdout",
     "output_type": "stream",
     "text": [
      "60000 28 28\n"
     ]
    }
   ],
   "source": [
    "try:\n",
    "    f.seek(4)\n",
    "    images = struct.unpack('>I',f.read(4))[0]\n",
    "    rows = struct.unpack('>I',f.read(4))[0]\n",
    "    columns = struct.unpack('>I',f.read(4))[0]\n",
    "    print(images,rows,columns)\n",
    "except struct.error as e:\n",
    "    print(e)"
   ]
  },
  {
   "cell_type": "code",
   "execution_count": 466,
   "metadata": {},
   "outputs": [],
   "source": [
    "# getting the image data\n",
    "start = f.seek(16)\n",
    "pixel_im = []\n",
    "for i in range(images):\n",
    "    f.seek(start + (i * rows * columns))\n",
    "    pixel = np.array(struct.unpack('>784B',f.read(rows * columns)))\n",
    "    pixel_im.append(pixel)\n",
    "pixel_im = np.array(pixel_im)"
   ]
  },
  {
   "cell_type": "code",
   "execution_count": 267,
   "metadata": {},
   "outputs": [],
   "source": [
    "f = gzip.open('image files//train-labels-idx1-ubyte.gz','rb')"
   ]
  },
  {
   "cell_type": "code",
   "execution_count": 268,
   "metadata": {},
   "outputs": [],
   "source": [
    "try:\n",
    "    magic = struct.unpack('4B', f.read(4))\n",
    "except struct.error as  e:\n",
    "    print(e)"
   ]
  },
  {
   "cell_type": "code",
   "execution_count": 269,
   "metadata": {},
   "outputs": [
    {
     "name": "stdout",
     "output_type": "stream",
     "text": [
      "(0, 0, 8, 1)\n"
     ]
    }
   ],
   "source": [
    "print(magic)"
   ]
  },
  {
   "cell_type": "code",
   "execution_count": 270,
   "metadata": {},
   "outputs": [
    {
     "name": "stdout",
     "output_type": "stream",
     "text": [
      "60000\n"
     ]
    }
   ],
   "source": [
    "try:\n",
    "    f.seek(4)\n",
    "    images = struct.unpack('>I',f.read(4))[0]\n",
    "    print(images)\n",
    "except struct.error as e:\n",
    "    print(e)"
   ]
  },
  {
   "cell_type": "code",
   "execution_count": 292,
   "metadata": {},
   "outputs": [],
   "source": [
    "##loading the labels\n",
    "try:\n",
    "    start = f.seek(8)\n",
    "    labels = np.array(struct.unpack('>60000B',f.read(images)))\n",
    "except struct.error as e:\n",
    "    print(e)"
   ]
  },
  {
   "cell_type": "code",
   "execution_count": 449,
   "metadata": {},
   "outputs": [],
   "source": [
    "##Initialize the weights for the input layer\n",
    "import random\n",
    "def getRandomWeights(a,b):\n",
    "    W = np.empty((0, 784), int)\n",
    "    for j in range(10):\n",
    "        w = np.array([random.uniform(a, b) for i in range(rows * columns)])\n",
    "        W = np.vstack([w, W])               # weight vector Ω\n",
    "    return W"
   ]
  },
  {
   "cell_type": "code",
   "execution_count": 467,
   "metadata": {},
   "outputs": [
    {
     "data": {
      "text/plain": [
       "(10, 784)"
      ]
     },
     "execution_count": 467,
     "metadata": {},
     "output_type": "execute_result"
    }
   ],
   "source": [
    "W.shape"
   ]
  },
  {
   "cell_type": "code",
   "execution_count": 385,
   "metadata": {},
   "outputs": [],
   "source": [
    "def getLabel(labels,idx):\n",
    "    if (idx <= images):\n",
    "        return (labels[idx])"
   ]
  },
  {
   "cell_type": "code",
   "execution_count": 381,
   "metadata": {},
   "outputs": [],
   "source": [
    "def signFunc(x):\n",
    "    if (x < 0):\n",
    "        return -1\n",
    "    elif (x == 0):\n",
    "        return 0\n",
    "    elif (x > 0 ):\n",
    "        return 1"
   ]
  },
  {
   "cell_type": "code",
   "execution_count": 421,
   "metadata": {},
   "outputs": [],
   "source": [
    "def stepFunc(x):\n",
    "    if (x >= 0):\n",
    "        return 1\n",
    "    else:\n",
    "        return 0"
   ]
  },
  {
   "cell_type": "code",
   "execution_count": 430,
   "metadata": {},
   "outputs": [],
   "source": [
    "#@param: array \n",
    "def signFunction(X):\n",
    "    if (type(X) == np.ndarray or type(X) == list):\n",
    "        for idx,x in enumerate(X):\n",
    "            X[idx] = signFunc(x)\n",
    "    elif (type(X) == int):\n",
    "        X = signFunc(X)\n",
    "    return X"
   ]
  },
  {
   "cell_type": "code",
   "execution_count": 431,
   "metadata": {},
   "outputs": [],
   "source": [
    "#@param : aray,list or int\n",
    "def stepFunction(X):\n",
    "    if (type(X) == np.ndarray or type(X) == list):\n",
    "        for idx,x in enumerate(X):\n",
    "            X[idx] = stepFunc(x)\n",
    "    elif (type(X) == int):\n",
    "        X = stepFunc(x)\n",
    "    return(X)"
   ]
  },
  {
   "cell_type": "code",
   "execution_count": null,
   "metadata": {},
   "outputs": [],
   "source": [
    "mis = 0\n",
    "for X_ele in S:\n",
    "    X = np.array([1] + list(X_ele))  # X input vector\n",
    "    y = self.signFunc(W1.T @ X)\n",
    "    d = self.boolClass(X_ele)             #desired input\n",
    "    if (y == 1 and d == 0):\n",
    "        W1 = W1 - ( rate * X)\n",
    "        mis += 1\n",
    "    elif (y == 0 and d == 1):\n",
    "        W1 = W1 + ( rate * X)\n",
    "        mis += 1\n",
    "return((W1,mis))"
   ]
  },
  {
   "cell_type": "code",
   "execution_count": 350,
   "metadata": {},
   "outputs": [
    {
     "data": {
      "text/plain": [
       "784"
      ]
     },
     "execution_count": 350,
     "metadata": {},
     "output_type": "execute_result"
    }
   ],
   "source": [
    "len(pixel_im[0].T)"
   ]
  },
  {
   "cell_type": "code",
   "execution_count": 386,
   "metadata": {},
   "outputs": [],
   "source": [
    "def getDesiredInput(labels,idx):\n",
    "    d = np.zeros(10)\n",
    "    label = getLabel(labels,idx)\n",
    "    d[label] = 1\n",
    "    return (d)"
   ]
  },
  {
   "cell_type": "code",
   "execution_count": 468,
   "metadata": {},
   "outputs": [
    {
     "data": {
      "text/plain": [
       "784"
      ]
     },
     "execution_count": 468,
     "metadata": {},
     "output_type": "execute_result"
    }
   ],
   "source": [
    "np.array(pixel_im).shape[1]"
   ]
  },
  {
   "cell_type": "code",
   "execution_count": 514,
   "metadata": {},
   "outputs": [
    {
     "name": "stdout",
     "output_type": "stream",
     "text": [
      "1 5\n"
     ]
    }
   ],
   "source": [
    "print(np.argmax(W @ (pixel_im[0]) ),getLabel(labels,0))"
   ]
  },
  {
   "cell_type": "code",
   "execution_count": 515,
   "metadata": {},
   "outputs": [],
   "source": [
    "W = getRandomWeights(-1,1)"
   ]
  },
  {
   "cell_type": "code",
   "execution_count": 559,
   "metadata": {
    "scrolled": true
   },
   "outputs": [],
   "source": [
    "# PTA for mnsit\n",
    "rate = 1\n",
    "e = 0.1\n",
    "n = images\n",
    "def PTA_mnist(n,rate,e):\n",
    "    epoch = 0\n",
    "    epoch_err = []\n",
    "    while True:\n",
    "        mis = 0\n",
    "        for idx in range(n):\n",
    "            v = W @ pixel_im[idx]\n",
    "            if (np.argmax(v) != getLabel(labels,idx)):\n",
    "                mis += 1\n",
    "        epoch_err.append(mis)\n",
    "        epoch = epoch + 1\n",
    "        for idx in range(n):\n",
    "            W = W + (getDesiredInput(labels,idx) - stepFunction(W @ pixel_im[idx])).reshape(-1,1) @ (pixel_im[idx].reshape(-1,1).T)\n",
    "        print(epoch_err[epoch-1]/images)\n",
    "        if (epoch_err[epoch-1]/images < e ):\n",
    "            break\n",
    "    return W"
   ]
  },
  {
   "cell_type": "code",
   "execution_count": 531,
   "metadata": {},
   "outputs": [
    {
     "data": {
      "text/plain": [
       "1"
      ]
     },
     "execution_count": 531,
     "metadata": {},
     "output_type": "execute_result"
    }
   ],
   "source": [
    "epoch"
   ]
  },
  {
   "cell_type": "code",
   "execution_count": null,
   "metadata": {},
   "outputs": [],
   "source": [
    "W = PTA_mnist(n,rate,e)"
   ]
  },
  {
   "cell_type": "code",
   "execution_count": 542,
   "metadata": {},
   "outputs": [],
   "source": [
    "#testing\n",
    "# open file\n",
    "f = gzip.open(files['testimage'])"
   ]
  },
  {
   "cell_type": "code",
   "execution_count": 551,
   "metadata": {},
   "outputs": [
    {
     "name": "stdout",
     "output_type": "stream",
     "text": [
      "(0, 0, 8, 3)\n"
     ]
    }
   ],
   "source": [
    "try:\n",
    "    f.seek(0)\n",
    "    magic = struct.unpack('4B',f.read(4))\n",
    "    print(magic)\n",
    "except struct.error as e:\n",
    "    print (e)"
   ]
  },
  {
   "cell_type": "code",
   "execution_count": 591,
   "metadata": {},
   "outputs": [],
   "source": [
    "def getImages(f):\n",
    "    try:\n",
    "        f.seek(4)\n",
    "        images = struct.unpack('>I', f.read(4))[0]\n",
    "        rows = struct.unpack('>I', f.read(4))[0]\n",
    "        columns = struct.unpack('>I', f.read(4))[0]\n",
    "        start = f.seek(16)\n",
    "        size =  rows *columns\n",
    "        pixel_im = []\n",
    "        for i in range(images):\n",
    "            f.seek(start + (i * size))\n",
    "            pixel = np.array(struct.unpack('>'+'B'*size, f.read(size)))\n",
    "            pixel_im.append(pixel)\n",
    "        return (np.array(pixel_im),images,rows,columns)\n",
    "    except struct.error as e:\n",
    "        print(e)"
   ]
  },
  {
   "cell_type": "code",
   "execution_count": 574,
   "metadata": {},
   "outputs": [],
   "source": [
    "#return labels of image from Mnist data\n",
    "def getLabels(f):\n",
    "    try:\n",
    "        f.seek(4)\n",
    "        images = struct.unpack('>I', f.read(4))[0]\n",
    "        f.seek(8)\n",
    "        labels = np.array(struct.unpack('>'+'B'*images, f.read(images)))\n",
    "        return(labels)\n",
    "    except struct.error as e:\n",
    "        print(e)"
   ]
  },
  {
   "cell_type": "code",
   "execution_count": 570,
   "metadata": {},
   "outputs": [
    {
     "name": "stdout",
     "output_type": "stream",
     "text": [
      "(0, 0, 8, 1)\n"
     ]
    }
   ],
   "source": [
    "f = gzip.open(files['testlabel'])\n",
    "try:\n",
    "    f.seek(0)\n",
    "    magic = struct.unpack('4B', f.read(4))\n",
    "    print(magic)\n",
    "    f.seek(4)\n",
    "    images = struct.unpack('>I',f.read(4))[0]\n",
    "    labels = np.array(struct.unpack('>'+'B'*images,f.read(images)))\n",
    "except struct.error as e:\n",
    "    print(e)"
   ]
  },
  {
   "cell_type": "code",
   "execution_count": 578,
   "metadata": {},
   "outputs": [
    {
     "data": {
      "text/plain": [
       "(10000,)"
      ]
     },
     "execution_count": 578,
     "metadata": {},
     "output_type": "execute_result"
    }
   ],
   "source": [
    "f = gzip.open(files['testlabel'])\n",
    "testLabels = getLabels(f)\n",
    "testLabels.shape"
   ]
  },
  {
   "cell_type": "code",
   "execution_count": 592,
   "metadata": {},
   "outputs": [],
   "source": [
    "f = gzip.open(files['testimage'])\n",
    "testImages,testNoImages,rows,cols = getImages(f)"
   ]
  },
  {
   "cell_type": "code",
   "execution_count": 581,
   "metadata": {},
   "outputs": [],
   "source": [
    "def testing(W,testLabels,testImages,n):\n",
    "    error = 0\n",
    "    for idx in range(n):\n",
    "        v = W @ testImages[idx]\n",
    "        if (np.argmax(v) != testLabels[idx]):\n",
    "              error +=1\n",
    "    return error"
   ]
  },
  {
   "cell_type": "code",
   "execution_count": 589,
   "metadata": {},
   "outputs": [
    {
     "data": {
      "text/plain": [
       "1219"
      ]
     },
     "execution_count": 589,
     "metadata": {},
     "output_type": "execute_result"
    }
   ],
   "source": [
    "n= (testNoImages)\n",
    "testing(W,testLabels,testImages,n)"
   ]
  },
  {
   "cell_type": "code",
   "execution_count": null,
   "metadata": {},
   "outputs": [],
   "source": []
  }
 ],
 "metadata": {
  "kernelspec": {
   "display_name": "Python 3",
   "language": "python",
   "name": "python3"
  },
  "language_info": {
   "codemirror_mode": {
    "name": "ipython",
    "version": 3
   },
   "file_extension": ".py",
   "mimetype": "text/x-python",
   "name": "python",
   "nbconvert_exporter": "python",
   "pygments_lexer": "ipython3",
   "version": "3.6.5"
  }
 },
 "nbformat": 4,
 "nbformat_minor": 2
}
